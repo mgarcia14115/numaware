{
 "cells": [
  {
   "cell_type": "code",
   "execution_count": 1,
   "metadata": {},
   "outputs": [
    {
     "name": "stdout",
     "output_type": "stream",
     "text": [
      "Current Working Directory:   /home/camer/capstone/numaware\n"
     ]
    }
   ],
   "source": [
    "import os\n",
    "\n",
    "while os.getcwd() != \"/\" and \".gitignore\" not in os.listdir(os.getcwd()):\n",
    "\tos.chdir(\"..\")\n",
    "\tif os.getcwd() == \"/\":\n",
    "\t\tprint(\"COULD NOT FIND gitignore.  Invalid project base file.\")\n",
    "print(\"Current Working Directory:  \", os.getcwd())"
   ]
  },
  {
   "cell_type": "code",
   "execution_count": 2,
   "metadata": {},
   "outputs": [],
   "source": [
    "from joint_model.src.uafscs.utils import data_utils\t\tas dutils\n",
    "from joint_model.src.uafscs.utils import train_utils    as tutils\n",
    "\n",
    "import os\n",
    "import torch.nn as nn\n",
    "import torch"
   ]
  },
  {
   "cell_type": "code",
   "execution_count": 3,
   "metadata": {},
   "outputs": [],
   "source": [
    "dir = \"/home/camer/capstone/numaware/data/data\"\n",
    "imgs = os.path.join(dir,\"images\")\n",
    "test_data = os.path.join(dir,\"test_data.csv\")\n",
    "train_data = os.path.join(dir,\"train_data.csv\")"
   ]
  },
  {
   "cell_type": "code",
   "execution_count": 4,
   "metadata": {},
   "outputs": [
    {
     "data": {
      "text/plain": [
       "'/home/camer/capstone/numaware/data/data/train_data.csv'"
      ]
     },
     "execution_count": 4,
     "metadata": {},
     "output_type": "execute_result"
    }
   ],
   "source": [
    "train_data"
   ]
  },
  {
   "cell_type": "code",
   "execution_count": 5,
   "metadata": {},
   "outputs": [],
   "source": [
    "test_dataset = dutils.UADataset(imgs,test_data)\n",
    "test_loader  = torch.utils.data.DataLoader(test_dataset,batch_size=16)"
   ]
  },
  {
   "cell_type": "code",
   "execution_count": 6,
   "metadata": {},
   "outputs": [],
   "source": [
    "#Thankyou Dr\n",
    "\n",
    "class SimpleCNN(nn.Module):\n",
    "    def __init__(self):\n",
    "        super(SimpleCNN, self).__init__()\n",
    "        \n",
    "        # Convolution layers with pooling\n",
    "        self.conv1 = nn.Conv2d(in_channels=3, out_channels=16, kernel_size=3, stride=1, padding=1)  # First conv layer\n",
    "        self.pool1 = nn.MaxPool2d(kernel_size=2, stride=2)  # Max pooling after the first conv layer\n",
    "        \n",
    "        self.conv2 = nn.Conv2d(in_channels=16, out_channels=32, kernel_size=3, stride=1, padding=1)  # Second conv layer\n",
    "        self.pool2 = nn.MaxPool2d(kernel_size=2, stride=2)  # Max pooling after the second conv layer\n",
    "        \n",
    "        self.conv3 = nn.Conv2d(in_channels=32, out_channels=64, kernel_size=3, stride=1, padding=1)  # Third conv layer\n",
    "        self.pool3 = nn.MaxPool2d(kernel_size=2, stride=2)  # Max pooling after the third conv layer\n",
    "        \n",
    "        # Flattened size after pooling\n",
    "        self.flattened_size = 307202  # This is the correct flattened size after all pooling\n",
    "\n",
    "        # Fully connected layers\n",
    "        self.fc1 = nn.Linear(self.flattened_size, 128)  # Fixed flattened size\n",
    "        self.fc2 = nn.Linear(128, 3)  # Output 3 floats for regression task\n",
    "\n",
    "        # Activation functions\n",
    "        self.relu = nn.ReLU()\n",
    "        self.dropout = nn.Dropout(0.5)\n",
    "\n",
    "    def forward(self, x, midpoints):\n",
    "        # Apply convolution layers with ReLU activation and pooling\n",
    "        x = self.relu(self.conv1(x))\n",
    "        x = self.pool1(x)  # Apply max pooling\n",
    "        \n",
    "        x = self.relu(self.conv2(x))\n",
    "        x = self.pool2(x)  # Apply max pooling\n",
    "        \n",
    "        x = self.relu(self.conv3(x))\n",
    "        x = self.pool3(x)  # Apply max pooling\n",
    "        \n",
    "       \n",
    "        x = torch.flatten(x, start_dim=1) # I made this\n",
    "        x = torch.cat((x, midpoints), 1)  # I made this\n",
    "\n",
    "        # Fully connected layers with dropout\n",
    "        x = self.relu(self.fc1(x))\n",
    "        x = self.dropout(x)\n",
    "        x = self.fc2(x)  # Output layer for regression\n",
    "        \n",
    "        return x\n",
    "\n",
    "\n",
    "\n",
    "model = SimpleCNN()\n"
   ]
  },
  {
   "cell_type": "code",
   "execution_count": 7,
   "metadata": {},
   "outputs": [],
   "source": [
    "trainer = tutils.UAFSTrainer( model            = model,\n",
    "                              targets          = \"carts\",\n",
    "                              midpoints        = \"yolo\",\n",
    "                              lr               = 0.01,\n",
    "                              epochs           = 2,\n",
    "                              train_dataloader = test_loader, #Used the test set as training just so it could finish faster\n",
    "                              test_dataloader  = test_loader,\n",
    "                              optimizer        = \"AdamW\",\n",
    "                              loss_fn          = \"MSE\" \n",
    "                            )"
   ]
  },
  {
   "cell_type": "code",
   "execution_count": 8,
   "metadata": {},
   "outputs": [
    {
     "name": "stderr",
     "output_type": "stream",
     "text": [
      "100%|██████████| 119/119 [02:18<00:00,  1.17s/it]\n"
     ]
    },
    {
     "name": "stdout",
     "output_type": "stream",
     "text": [
      "Epoch: 1   Training Loss: 15372.7393  Training R2 score: -170.1665527699864 \n"
     ]
    },
    {
     "name": "stderr",
     "output_type": "stream",
     "text": [
      "100%|██████████| 119/119 [02:18<00:00,  1.16s/it]"
     ]
    },
    {
     "name": "stdout",
     "output_type": "stream",
     "text": [
      "Epoch: 2   Training Loss: 16236.2764  Training R2 score: -29.256300655281063 \n"
     ]
    },
    {
     "name": "stderr",
     "output_type": "stream",
     "text": [
      "\n"
     ]
    }
   ],
   "source": [
    "trainer.train()"
   ]
  },
  {
   "cell_type": "code",
   "execution_count": 8,
   "metadata": {},
   "outputs": [
    {
     "name": "stderr",
     "output_type": "stream",
     "text": [
      "100%|██████████| 119/119 [01:08<00:00,  1.73it/s]"
     ]
    },
    {
     "name": "stdout",
     "output_type": "stream",
     "text": [
      "here\n",
      "Test Loss: 70652.8125  Test R2 score: -209.66723038448004 \n"
     ]
    },
    {
     "name": "stderr",
     "output_type": "stream",
     "text": [
      "\n"
     ]
    }
   ],
   "source": [
    "trainer.eval()"
   ]
  },
  {
   "cell_type": "code",
   "execution_count": null,
   "metadata": {},
   "outputs": [],
   "source": []
  }
 ],
 "metadata": {
  "kernelspec": {
   "display_name": ".venv",
   "language": "python",
   "name": "python3"
  },
  "language_info": {
   "codemirror_mode": {
    "name": "ipython",
    "version": 3
   },
   "file_extension": ".py",
   "mimetype": "text/x-python",
   "name": "python",
   "nbconvert_exporter": "python",
   "pygments_lexer": "ipython3",
   "version": "3.11.11"
  }
 },
 "nbformat": 4,
 "nbformat_minor": 2
}

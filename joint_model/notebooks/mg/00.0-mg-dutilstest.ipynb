{
 "cells": [
  {
   "cell_type": "code",
   "execution_count": 1,
   "metadata": {},
   "outputs": [
    {
     "name": "stdout",
     "output_type": "stream",
     "text": [
      "Current Working Directory:   /home/marco/github/numaware/joint_model\n"
     ]
    }
   ],
   "source": [
    "import os\n",
    "\n",
    "while os.getcwd() != \"/\" and \".gitignore\" not in os.listdir(os.getcwd()):\n",
    "\tos.chdir(\"..\")\n",
    "\tif os.getcwd() == \"/\":\n",
    "\t\tprint(\"COULD NOT FIND gitignore.  Invalid project base file.\")\n",
    "print(\"Current Working Directory:  \", os.getcwd())"
   ]
  },
  {
   "cell_type": "code",
   "execution_count": 2,
   "metadata": {},
   "outputs": [],
   "source": [
    "import src.uafscs.utils.data_utils\t\tas dutils\n",
    "import pandas as pd\n",
    "import numpy as np"
   ]
  },
  {
   "cell_type": "code",
   "execution_count": 3,
   "metadata": {},
   "outputs": [
    {
     "name": "stdout",
     "output_type": "stream",
     "text": [
      "Hi im being made\n",
      "/usr/joint_model_data/processed_images_and_data/train_data.csv\n"
     ]
    }
   ],
   "source": [
    "imgs_dir = \"/usr/joint_model_data/processed_images_and_data/images\"\n",
    "train_csv = \"/usr/joint_model_data/processed_images_and_data/train_data.csv\"\n",
    "\n",
    "train_c_dataset = dutils.UADataset(imgs_dir,train_csv)"
   ]
  },
  {
   "cell_type": "code",
   "execution_count": null,
   "metadata": {},
   "outputs": [],
   "source": []
  },
  {
   "cell_type": "code",
   "execution_count": 4,
   "metadata": {},
   "outputs": [
    {
     "name": "stdout",
     "output_type": "stream",
     "text": [
      "hi\n",
      "In dataset <class 'torch.Tensor'>\n"
     ]
    }
   ],
   "source": [
    "img,ym , om , c,j=train_c_dataset.__getitem__(0)"
   ]
  },
  {
   "cell_type": "code",
   "execution_count": 5,
   "metadata": {},
   "outputs": [
    {
     "data": {
      "text/plain": [
       "tensor([[[0.9843, 0.9804, 0.9804,  ..., 0.5216, 0.5255, 0.5255],\n",
       "         [0.9843, 0.9804, 0.9804,  ..., 0.5216, 0.5255, 0.5255],\n",
       "         [0.9843, 0.9804, 0.9804,  ..., 0.5216, 0.5255, 0.5255],\n",
       "         ...,\n",
       "         [0.9843, 0.9882, 0.9882,  ..., 0.9804, 0.9843, 0.9843],\n",
       "         [0.9843, 0.9882, 0.9882,  ..., 0.9804, 0.9843, 0.9843],\n",
       "         [0.9843, 0.9882, 0.9882,  ..., 0.9804, 0.9843, 0.9843]],\n",
       "\n",
       "        [[0.9922, 0.9882, 0.9882,  ..., 0.2392, 0.2392, 0.2392],\n",
       "         [0.9922, 0.9882, 0.9882,  ..., 0.2392, 0.2392, 0.2392],\n",
       "         [0.9922, 0.9882, 0.9882,  ..., 0.2392, 0.2392, 0.2392],\n",
       "         ...,\n",
       "         [0.6353, 0.6353, 0.6392,  ..., 0.8863, 0.8902, 0.8902],\n",
       "         [0.6353, 0.6353, 0.6392,  ..., 0.8863, 0.8902, 0.8902],\n",
       "         [0.6353, 0.6353, 0.6392,  ..., 0.8863, 0.8902, 0.8902]],\n",
       "\n",
       "        [[0.9882, 0.9843, 0.9843,  ..., 0.1843, 0.1843, 0.1843],\n",
       "         [0.9882, 0.9843, 0.9843,  ..., 0.1843, 0.1843, 0.1843],\n",
       "         [0.9882, 0.9843, 0.9882,  ..., 0.1843, 0.1843, 0.1843],\n",
       "         ...,\n",
       "         [0.5922, 0.5961, 0.5961,  ..., 0.7569, 0.7608, 0.7608],\n",
       "         [0.5922, 0.5961, 0.5961,  ..., 0.7569, 0.7608, 0.7608],\n",
       "         [0.5922, 0.5961, 0.5961,  ..., 0.7569, 0.7608, 0.7608]]])"
      ]
     },
     "execution_count": 5,
     "metadata": {},
     "output_type": "execute_result"
    }
   ],
   "source": [
    "img"
   ]
  },
  {
   "cell_type": "code",
   "execution_count": 6,
   "metadata": {},
   "outputs": [],
   "source": [
    "df = pd.read_csv(train_csv)"
   ]
  },
  {
   "cell_type": "code",
   "execution_count": 7,
   "metadata": {},
   "outputs": [
    {
     "data": {
      "text/html": [
       "<div>\n",
       "<style scoped>\n",
       "    .dataframe tbody tr th:only-of-type {\n",
       "        vertical-align: middle;\n",
       "    }\n",
       "\n",
       "    .dataframe tbody tr th {\n",
       "        vertical-align: top;\n",
       "    }\n",
       "\n",
       "    .dataframe thead th {\n",
       "        text-align: right;\n",
       "    }\n",
       "</style>\n",
       "<table border=\"1\" class=\"dataframe\">\n",
       "  <thead>\n",
       "    <tr style=\"text-align: right;\">\n",
       "      <th></th>\n",
       "      <th>img</th>\n",
       "      <th>joints</th>\n",
       "      <th>cartesians</th>\n",
       "      <th>yolo_midpoint</th>\n",
       "      <th>our_midpoint</th>\n",
       "      <th>class</th>\n",
       "    </tr>\n",
       "  </thead>\n",
       "  <tbody>\n",
       "    <tr>\n",
       "      <th>0</th>\n",
       "      <td>motionblur/img63_motionblur.png</td>\n",
       "      <td>[145.58, 27.3, 19.81, 60.65, -68.14, 53.64]</td>\n",
       "      <td>[[-315.97, 287.07, 358.95], [0.01, 0.009, -0.6...</td>\n",
       "      <td>[182.071, 98.001]</td>\n",
       "      <td>[182.96, 129.976]</td>\n",
       "      <td>2.0</td>\n",
       "    </tr>\n",
       "    <tr>\n",
       "      <th>1</th>\n",
       "      <td>img26.png</td>\n",
       "      <td>[77.94, 38.12, 48.33, -13.6, -88.66, 90.88]</td>\n",
       "      <td>[[51.4, 321.52, 207.99], [0.01, 0.009, -0.694,...</td>\n",
       "      <td>[458.675, 210.644]</td>\n",
       "      <td>[465.457, 234.5]</td>\n",
       "      <td>1.0</td>\n",
       "    </tr>\n",
       "    <tr>\n",
       "      <th>2</th>\n",
       "      <td>saltandpepper/img88_saltandpepper.png</td>\n",
       "      <td>[123.26, 39.96, 45.61, 31.71, -88.35, 87.73]</td>\n",
       "      <td>[[-148.09, 294.77, 203.89], [0.01, 0.009, -0.6...</td>\n",
       "      <td>[322.44, 221.866]</td>\n",
       "      <td>[325.621, 251.92]</td>\n",
       "      <td>1.0</td>\n",
       "    </tr>\n",
       "    <tr>\n",
       "      <th>3</th>\n",
       "      <td>posterize/img72_posterize.png</td>\n",
       "      <td>[117.7, 37.66, 52.5, 26.17, -92.25, 90.12]</td>\n",
       "      <td>[[-110.78, 279.2, 204.21], [0.01, 0.009, -0.69...</td>\n",
       "      <td>[349.762, 221.971]</td>\n",
       "      <td>[353.899, 249.37]</td>\n",
       "      <td>1.0</td>\n",
       "    </tr>\n",
       "    <tr>\n",
       "      <th>4</th>\n",
       "      <td>defocus/img119_defocus.png</td>\n",
       "      <td>[114.79, 2.32, 50.42, 27.65, -58.23, 73.73]</td>\n",
       "      <td>[[-106.51, 298.42, 364.42], [0.01, 0.009, -0.6...</td>\n",
       "      <td>[353.255, 96.369]</td>\n",
       "      <td>[357.637, 123.855]</td>\n",
       "      <td>1.0</td>\n",
       "    </tr>\n",
       "  </tbody>\n",
       "</table>\n",
       "</div>"
      ],
      "text/plain": [
       "                                     img  \\\n",
       "0        motionblur/img63_motionblur.png   \n",
       "1                              img26.png   \n",
       "2  saltandpepper/img88_saltandpepper.png   \n",
       "3          posterize/img72_posterize.png   \n",
       "4             defocus/img119_defocus.png   \n",
       "\n",
       "                                         joints  \\\n",
       "0   [145.58, 27.3, 19.81, 60.65, -68.14, 53.64]   \n",
       "1   [77.94, 38.12, 48.33, -13.6, -88.66, 90.88]   \n",
       "2  [123.26, 39.96, 45.61, 31.71, -88.35, 87.73]   \n",
       "3    [117.7, 37.66, 52.5, 26.17, -92.25, 90.12]   \n",
       "4   [114.79, 2.32, 50.42, 27.65, -58.23, 73.73]   \n",
       "\n",
       "                                          cartesians       yolo_midpoint  \\\n",
       "0  [[-315.97, 287.07, 358.95], [0.01, 0.009, -0.6...   [182.071, 98.001]   \n",
       "1  [[51.4, 321.52, 207.99], [0.01, 0.009, -0.694,...  [458.675, 210.644]   \n",
       "2  [[-148.09, 294.77, 203.89], [0.01, 0.009, -0.6...   [322.44, 221.866]   \n",
       "3  [[-110.78, 279.2, 204.21], [0.01, 0.009, -0.69...  [349.762, 221.971]   \n",
       "4  [[-106.51, 298.42, 364.42], [0.01, 0.009, -0.6...   [353.255, 96.369]   \n",
       "\n",
       "         our_midpoint  class  \n",
       "0   [182.96, 129.976]    2.0  \n",
       "1    [465.457, 234.5]    1.0  \n",
       "2   [325.621, 251.92]    1.0  \n",
       "3   [353.899, 249.37]    1.0  \n",
       "4  [357.637, 123.855]    1.0  "
      ]
     },
     "execution_count": 7,
     "metadata": {},
     "output_type": "execute_result"
    }
   ],
   "source": [
    "df.head()"
   ]
  },
  {
   "cell_type": "code",
   "execution_count": 8,
   "metadata": {},
   "outputs": [],
   "source": [
    "\n",
    "\n",
    "\n",
    "series = df[\"joints\"]"
   ]
  },
  {
   "cell_type": "code",
   "execution_count": null,
   "metadata": {},
   "outputs": [],
   "source": []
  },
  {
   "cell_type": "code",
   "execution_count": null,
   "metadata": {},
   "outputs": [],
   "source": []
  }
 ],
 "metadata": {
  "kernelspec": {
   "display_name": ".venv",
   "language": "python",
   "name": "python3"
  },
  "language_info": {
   "codemirror_mode": {
    "name": "ipython",
    "version": 3
   },
   "file_extension": ".py",
   "mimetype": "text/x-python",
   "name": "python",
   "nbconvert_exporter": "python",
   "pygments_lexer": "ipython3",
   "version": "3.11.11"
  }
 },
 "nbformat": 4,
 "nbformat_minor": 2
}

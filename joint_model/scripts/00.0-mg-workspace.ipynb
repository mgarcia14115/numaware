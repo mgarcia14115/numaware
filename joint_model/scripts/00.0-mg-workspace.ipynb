{
 "cells": [
  {
   "cell_type": "code",
   "execution_count": 20,
   "metadata": {},
   "outputs": [],
   "source": [
    "\n",
    "import os\n",
    "import cv2     as cv\n",
    "import numpy   as np\n",
    "from ultralytics import YOLO\n",
    "import calibri as cal\n",
    "\n",
    "\n",
    "\n",
    "\n",
    "class Data_Collector:\n",
    "\n",
    "    def __init__(self,imgs_dir_path, cam_calibration_path):\n",
    "        self.imgs_dir_path = imgs_dir_path\n",
    "        data               = np.load(cam_calibration_path,allow_pickle=True)\n",
    "        self.mtx           = data['mtx']\n",
    "        self.dist          = data['dist']\n",
    "    \n",
    "    def take_image(self, img_name , cam_idx):\n",
    "\n",
    "        abs_path = os.path.join(self.imgs_dir_path,img_name)\n",
    "\n",
    "        cap = cv.VideoCapture(cam_idx)\n",
    "        \n",
    "        if not cap.isOpened():\n",
    "            print(\"Cannot open camera\")\n",
    "            exit()\n",
    "\n",
    "        ret, frame = cap.read()\n",
    "\n",
    "        if not ret:\n",
    "            print(\"Can't take an image. Exiting ....\")\n",
    "            cap.release()\n",
    "            cv.destroyAllWindows()\n",
    "            return None\n",
    "        else:       \n",
    "            img = np.asarray(frame)\n",
    "            undistored_img = cal.undistort(img,self.mtx,self.dist)\n",
    "            success = cv.imwrite(abs_path,undistored_img)\n",
    "            \n",
    "            if success:\n",
    "                print(f\"Image successfully saved to {abs_path}\")\n",
    "               \n",
    "            else:\n",
    "                print(f\"An error occured. The image was not able to be captured.\")\n",
    "                             \n",
    "        cap.release()\n",
    "        cv.destroyAllWindows()\n",
    "        return abs_path\n",
    "\n",
    "    \n",
    "    def get_img_count(self, filepath):\n",
    "        \n",
    "        img_dir = os.listdir(filepath)\n",
    "        \n",
    "        count = 0\n",
    "\n",
    "        for file in img_dir:\n",
    "            if file.endswith(\".jpg\") or file.endswith(\".png\") or file.endswith(\".jpeg\"):\n",
    "                count+=1\n",
    "\n",
    "        return count\n",
    "\n",
    "    def find_camera_idx(self):\n",
    "        \n",
    "        for cam_idx in range(-1,10):\n",
    "\n",
    "            cap = cv.VideoCapture(cam_idx)\n",
    "            \n",
    "            if cap.isOpened():\n",
    "                print(f\"Camera is open on idx {cam_idx}\")\n",
    "\n",
    "\n",
    "        \n",
    "\n",
    "\n"
   ]
  },
  {
   "cell_type": "code",
   "execution_count": 21,
   "metadata": {},
   "outputs": [],
   "source": [
    "obj = Data_Collector(\"/home/mgarcia/Pictures/\",\"./calibrationdata.npz\")"
   ]
  },
  {
   "cell_type": "code",
   "execution_count": 22,
   "metadata": {},
   "outputs": [
    {
     "name": "stdout",
     "output_type": "stream",
     "text": [
      "Camera is open on idx -1\n"
     ]
    },
    {
     "name": "stderr",
     "output_type": "stream",
     "text": [
      "[ WARN:0@1085.684] global cap_v4l.cpp:913 open VIDEOIO(V4L2:/dev/video0): can't open camera by index\n",
      "[ERROR:0@1085.685] global obsensor_uvc_stream_channel.cpp:158 getStreamChannelGroup Camera index out of range\n",
      "[ WARN:0@1085.686] global cap_v4l.cpp:913 open VIDEOIO(V4L2:/dev/video1): can't open camera by index\n",
      "[ERROR:0@1085.687] global obsensor_uvc_stream_channel.cpp:158 getStreamChannelGroup Camera index out of range\n",
      "[ WARN:0@1085.688] global cap_v4l.cpp:913 open VIDEOIO(V4L2:/dev/video2): can't open camera by index\n",
      "[ERROR:0@1085.689] global obsensor_uvc_stream_channel.cpp:158 getStreamChannelGroup Camera index out of range\n",
      "[ WARN:0@1085.689] global cap_v4l.cpp:913 open VIDEOIO(V4L2:/dev/video3): can't open camera by index\n",
      "[ERROR:0@1085.690] global obsensor_uvc_stream_channel.cpp:158 getStreamChannelGroup Camera index out of range\n",
      "[ WARN:0@1085.690] global cap_v4l.cpp:913 open VIDEOIO(V4L2:/dev/video4): can't open camera by index\n",
      "[ERROR:0@1085.691] global obsensor_uvc_stream_channel.cpp:158 getStreamChannelGroup Camera index out of range\n",
      "[ WARN:0@1085.691] global cap_v4l.cpp:913 open VIDEOIO(V4L2:/dev/video5): can't open camera by index\n",
      "[ERROR:0@1085.693] global obsensor_uvc_stream_channel.cpp:158 getStreamChannelGroup Camera index out of range\n",
      "[ WARN:0@1085.693] global cap_v4l.cpp:913 open VIDEOIO(V4L2:/dev/video6): can't open camera by index\n",
      "[ERROR:0@1085.702] global obsensor_uvc_stream_channel.cpp:158 getStreamChannelGroup Camera index out of range\n",
      "[ WARN:0@1085.702] global cap_v4l.cpp:913 open VIDEOIO(V4L2:/dev/video7): can't open camera by index\n",
      "[ERROR:0@1085.704] global obsensor_uvc_stream_channel.cpp:158 getStreamChannelGroup Camera index out of range\n",
      "[ WARN:0@1085.705] global cap_v4l.cpp:913 open VIDEOIO(V4L2:/dev/video8): can't open camera by index\n",
      "[ERROR:0@1085.707] global obsensor_uvc_stream_channel.cpp:158 getStreamChannelGroup Camera index out of range\n",
      "[ WARN:0@1085.708] global cap_v4l.cpp:913 open VIDEOIO(V4L2:/dev/video9): can't open camera by index\n",
      "[ERROR:0@1085.711] global obsensor_uvc_stream_channel.cpp:158 getStreamChannelGroup Camera index out of range\n"
     ]
    }
   ],
   "source": [
    "obj.find_camera_idx()"
   ]
  },
  {
   "cell_type": "code",
   "execution_count": 23,
   "metadata": {},
   "outputs": [
    {
     "name": "stdout",
     "output_type": "stream",
     "text": [
      "Image successfully saved to /home/mgarcia/Pictures/img3.png\n"
     ]
    }
   ],
   "source": [
    "img_path = obj.take_image(\"img3.png\",-1)"
   ]
  },
  {
   "cell_type": "code",
   "execution_count": 24,
   "metadata": {},
   "outputs": [],
   "source": [
    "model = YOLO(\"../../object_detection_model/model/mg_model_6/best.pt\")"
   ]
  },
  {
   "cell_type": "code",
   "execution_count": 46,
   "metadata": {},
   "outputs": [
    {
     "name": "stdout",
     "output_type": "stream",
     "text": [
      "\n",
      "image 1/1 /home/mgarcia/Pictures/img3.png: 480x640 (no detections), 246.7ms\n",
      "Speed: 16.2ms preprocess, 246.7ms inference, 0.7ms postprocess per image at shape (1, 3, 480, 640)\n"
     ]
    }
   ],
   "source": [
    "results = model(source = img_path,conf = .6)\n"
   ]
  },
  {
   "cell_type": "code",
   "execution_count": 51,
   "metadata": {},
   "outputs": [
    {
     "name": "stdout",
     "output_type": "stream",
     "text": [
      "ultralytics.engine.results.Boxes object with attributes:\n",
      "\n",
      "cls: tensor([])\n",
      "conf: tensor([])\n",
      "data: tensor([], size=(0, 6))\n",
      "id: None\n",
      "is_track: False\n",
      "orig_shape: (480, 640)\n",
      "shape: torch.Size([0, 6])\n",
      "xywh: tensor([], size=(0, 4))\n",
      "xywhn: tensor([], size=(0, 4))\n",
      "xyxy: tensor([], size=(0, 4))\n",
      "xyxyn: tensor([], size=(0, 4))\n"
     ]
    }
   ],
   "source": [
    "for r in results:\n",
    "    print(r.boxes)"
   ]
  },
  {
   "cell_type": "code",
   "execution_count": null,
   "metadata": {},
   "outputs": [],
   "source": []
  }
 ],
 "metadata": {
  "kernelspec": {
   "display_name": ".venv",
   "language": "python",
   "name": "python3"
  },
  "language_info": {
   "codemirror_mode": {
    "name": "ipython",
    "version": 3
   },
   "file_extension": ".py",
   "mimetype": "text/x-python",
   "name": "python",
   "nbconvert_exporter": "python",
   "pygments_lexer": "ipython3",
   "version": "3.11.11"
  }
 },
 "nbformat": 4,
 "nbformat_minor": 2
}

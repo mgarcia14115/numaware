{
 "cells": [
  {
   "cell_type": "code",
   "execution_count": null,
   "metadata": {},
   "outputs": [],
   "source": [
    "\n",
    "import os\n",
    "import cv2     as cv\n",
    "import numpy   as np\n",
    "import calibri as cal\n",
    "\n",
    "\n",
    "\n",
    "\n",
    "class Data_Collector:\n",
    "\n",
    "    def __init__(self,imgs_dir_path, cam_calibration_path):\n",
    "        self.imgs_dir_path = imgs_dir_path\n",
    "        data               = np.load(cam_calibration_path,allow_pickle=True)\n",
    "        self.mtx           = data['mtx']\n",
    "        self.dist          = data['dist']\n",
    "    \n",
    "    def take_image(self, img_name , cam_idx):\n",
    "\n",
    "        abs_path = os.path.join(self.imgs_dir_path,img_name)\n",
    "\n",
    "        cap = cv.VideoCapture(cam_idx)\n",
    "        \n",
    "        if not cap.isOpened():\n",
    "            print(\"Cannot open camera\")\n",
    "            exit()\n",
    "\n",
    "        ret, frame = cap.read()\n",
    "\n",
    "        if not ret:\n",
    "            print(\"Can't take an image. Exiting ....\")\n",
    "            cap.release()\n",
    "            cv.destroyAllWindows()\n",
    "            exit()\n",
    "        else:       \n",
    "            img = np.asarray(frame)\n",
    "            undistored_img = cal.undistort(img,self.mtx,self.dist)\n",
    "            success = cv.imwrite(abs_path,undistored_img)\n",
    "            \n",
    "            if success:\n",
    "                print(f\"Image successfully saved to {abs_path}\")\n",
    "            else:\n",
    "                print(f\"An error occured. The image was not able to be captured.\")\n",
    "        cap.release()\n",
    "        cv.destroyAllWindows()\n",
    "\n",
    "    \n",
    "    def get_img_count(self, filepath):\n",
    "        \n",
    "        img_dir = os.listdir(filepath)\n",
    "        \n",
    "        count = 0\n",
    "\n",
    "        for file in img_dir:\n",
    "            if file.endswith(\".jpg\") or file.endswith(\".png\") or file.endswith(\".jpeg\"):\n",
    "                count+=1\n",
    "\n",
    "        return count\n",
    "\n",
    "    def find_camera_idx():\n",
    "        \n",
    "        for cam_idx in range(-1,10):\n",
    "\n",
    "            cap = cv.VideoCapture(cam_idx)\n",
    "            \n",
    "            if cap.isOpened():\n",
    "                print(f\"Camera is open on idx {cam_idx}\")\n",
    "\n",
    "\n",
    "        \n",
    "\n",
    "\n"
   ]
  },
  {
   "cell_type": "code",
   "execution_count": 4,
   "metadata": {},
   "outputs": [],
   "source": [
    "obj = Data_Collector()"
   ]
  },
  {
   "cell_type": "code",
   "execution_count": null,
   "metadata": {},
   "outputs": [],
   "source": [
    "obj.take_image()"
   ]
  },
  {
   "cell_type": "code",
   "execution_count": null,
   "metadata": {},
   "outputs": [],
   "source": []
  },
  {
   "cell_type": "code",
   "execution_count": null,
   "metadata": {},
   "outputs": [],
   "source": []
  },
  {
   "cell_type": "code",
   "execution_count": null,
   "metadata": {},
   "outputs": [],
   "source": []
  },
  {
   "cell_type": "code",
   "execution_count": null,
   "metadata": {},
   "outputs": [],
   "source": []
  }
 ],
 "metadata": {
  "kernelspec": {
   "display_name": ".venv",
   "language": "python",
   "name": "python3"
  },
  "language_info": {
   "codemirror_mode": {
    "name": "ipython",
    "version": 3
   },
   "file_extension": ".py",
   "mimetype": "text/x-python",
   "name": "python",
   "nbconvert_exporter": "python",
   "pygments_lexer": "ipython3",
   "version": "3.11.11"
  }
 },
 "nbformat": 4,
 "nbformat_minor": 2
}

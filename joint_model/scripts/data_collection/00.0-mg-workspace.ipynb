{
 "cells": [
  {
   "cell_type": "code",
   "execution_count": null,
   "metadata": {},
   "outputs": [],
   "source": [
    "\n",
    "import os\n",
    "import cv2     as cv\n",
    "import numpy   as np\n",
    "from PIL import Image\n",
    "from ultralytics import YOLO\n",
    "import calibri as cal\n",
    "\n",
    "\n",
    "\n",
    "\n",
    "class Data_Collector:\n",
    "\n",
    "    def __init__(self,imgs_dir_path, cam_calibration_path):\n",
    "        self.imgs_dir_path = imgs_dir_path\n",
    "        data               = np.load(cam_calibration_path,allow_pickle=True)\n",
    "        self.mtx           = data['mtx']\n",
    "        self.dist          = data['dist']\n",
    "    \n",
    "    def take_image(self, img_name , cam_idx):\n",
    "\n",
    "        abs_path = os.path.join(self.imgs_dir_path,img_name)\n",
    "\n",
    "        cap = cv.VideoCapture(cam_idx)\n",
    "        \n",
    "        if not cap.isOpened():\n",
    "            print(\"Cannot open camera\")\n",
    "            exit()\n",
    "\n",
    "        ret, frame = cap.read()\n",
    "\n",
    "        if not ret:\n",
    "            print(\"Can't take an image. Exiting ....\")\n",
    "            cap.release()\n",
    "            cv.destroyAllWindows()\n",
    "            return None\n",
    "        else:       \n",
    "            img = np.asarray(frame)\n",
    "            undistored_img = cal.undistort(img,self.mtx,self.dist)\n",
    "            success = cv.imwrite(abs_path,undistored_img)\n",
    "            \n",
    "            if success:\n",
    "                print(f\"Image successfully saved to {abs_path}\")\n",
    "               \n",
    "            else:\n",
    "                print(f\"An error occured. The image was not able to be captured.\")\n",
    "                             \n",
    "        cap.release()\n",
    "        cv.destroyAllWindows()\n",
    "        return abs_path\n",
    "\n",
    "    \n",
    "    def get_img_count(self, filepath):\n",
    "        \n",
    "        img_dir = os.listdir(filepath)\n",
    "        \n",
    "        count = 0\n",
    "\n",
    "        for file in img_dir:\n",
    "            if file.endswith(\".jpg\") or file.endswith(\".png\") or file.endswith(\".jpeg\"):\n",
    "                count+=1\n",
    "        print(f\"There is currently {count} images in your image directory.\")\n",
    "        return count + 1\n",
    "\n",
    "    def find_camera_idx(self):\n",
    "        \n",
    "        for cam_idx in range(-1,10):\n",
    "\n",
    "            cap = cv.VideoCapture(cam_idx)\n",
    "            \n",
    "            if cap.isOpened():\n",
    "                print(f\"Camera is open on idx {cam_idx}\")\n",
    "\n",
    "    def midpoint(self, coordinates):\n",
    "\n",
    "        x1 = coordinates[0].item()\n",
    "        y1 = coordinates[1].item()\n",
    "\n",
    "        x2 = coordinates[2].item()\n",
    "        y2 = coordinates[3].item()\n",
    "\n",
    "        return ((x1+x2)/2),((y1+y2)/2)\n",
    "\n",
    "    \n",
    "        \n",
    "\n",
    "\n"
   ]
  },
  {
   "cell_type": "code",
   "execution_count": 2,
   "metadata": {},
   "outputs": [],
   "source": [
    "obj = Data_Collector(\"/home/mgarcia/Desktop/images/\",\"./calibrationdata.npz\")"
   ]
  },
  {
   "cell_type": "code",
   "execution_count": 4,
   "metadata": {},
   "outputs": [
    {
     "name": "stdout",
     "output_type": "stream",
     "text": [
      "Camera is open on idx -1\n",
      "Camera is open on idx 2\n"
     ]
    },
    {
     "name": "stderr",
     "output_type": "stream",
     "text": [
      "[ WARN:0@31.203] global cap_v4l.cpp:913 open VIDEOIO(V4L2:/dev/video0): can't open camera by index\n",
      "[ERROR:0@31.204] global obsensor_uvc_stream_channel.cpp:158 getStreamChannelGroup Camera index out of range\n",
      "[ WARN:0@31.204] global cap_v4l.cpp:913 open VIDEOIO(V4L2:/dev/video1): can't open camera by index\n",
      "[ERROR:0@31.205] global obsensor_uvc_stream_channel.cpp:158 getStreamChannelGroup Camera index out of range\n",
      "[ WARN:0@31.214] global cap_v4l.cpp:913 open VIDEOIO(V4L2:/dev/video3): can't open camera by index\n",
      "[ERROR:0@31.215] global obsensor_uvc_stream_channel.cpp:158 getStreamChannelGroup Camera index out of range\n",
      "[ WARN:0@31.215] global cap_v4l.cpp:913 open VIDEOIO(V4L2:/dev/video4): can't open camera by index\n",
      "[ERROR:0@31.216] global obsensor_uvc_stream_channel.cpp:158 getStreamChannelGroup Camera index out of range\n",
      "[ WARN:0@31.216] global cap_v4l.cpp:913 open VIDEOIO(V4L2:/dev/video5): can't open camera by index\n",
      "[ERROR:0@31.216] global obsensor_uvc_stream_channel.cpp:158 getStreamChannelGroup Camera index out of range\n",
      "[ WARN:0@31.216] global cap_v4l.cpp:913 open VIDEOIO(V4L2:/dev/video6): can't open camera by index\n",
      "[ERROR:0@31.217] global obsensor_uvc_stream_channel.cpp:158 getStreamChannelGroup Camera index out of range\n",
      "[ WARN:0@31.217] global cap_v4l.cpp:913 open VIDEOIO(V4L2:/dev/video7): can't open camera by index\n",
      "[ERROR:0@31.218] global obsensor_uvc_stream_channel.cpp:158 getStreamChannelGroup Camera index out of range\n",
      "[ WARN:0@31.218] global cap_v4l.cpp:913 open VIDEOIO(V4L2:/dev/video8): can't open camera by index\n",
      "[ERROR:0@31.218] global obsensor_uvc_stream_channel.cpp:158 getStreamChannelGroup Camera index out of range\n",
      "[ WARN:0@31.218] global cap_v4l.cpp:913 open VIDEOIO(V4L2:/dev/video9): can't open camera by index\n",
      "[ERROR:0@31.219] global obsensor_uvc_stream_channel.cpp:158 getStreamChannelGroup Camera index out of range\n"
     ]
    }
   ],
   "source": [
    "obj.find_camera_idx()"
   ]
  },
  {
   "cell_type": "code",
   "execution_count": 5,
   "metadata": {},
   "outputs": [
    {
     "name": "stdout",
     "output_type": "stream",
     "text": [
      "Image successfully saved to /home/mgarcia/Pictures/img4.png\n"
     ]
    }
   ],
   "source": [
    "img_path = obj.take_image(\"img4.png\",2)"
   ]
  },
  {
   "cell_type": "code",
   "execution_count": 6,
   "metadata": {},
   "outputs": [],
   "source": [
    "model = YOLO(\"../../object_detection_model/model/mg_model_6/best.pt\")"
   ]
  },
  {
   "cell_type": "code",
   "execution_count": 7,
   "metadata": {},
   "outputs": [
    {
     "name": "stdout",
     "output_type": "stream",
     "text": [
      "\n",
      "image 1/1 /home/mgarcia/Pictures/img4.png: 480x640 1 grey pallet, 1 white pallet, 500.8ms\n",
      "Speed: 19.6ms preprocess, 500.8ms inference, 23.4ms postprocess per image at shape (1, 3, 480, 640)\n"
     ]
    }
   ],
   "source": [
    "results = model(source = img_path,conf = .6)\n"
   ]
  },
  {
   "cell_type": "code",
   "execution_count": 20,
   "metadata": {},
   "outputs": [
    {
     "name": "stdout",
     "output_type": "stream",
     "text": [
      "There is currently 10 images in your image directory.\n",
      "Image successfully saved to /home/mgarcia/Desktop/images/img11.png\n"
     ]
    },
    {
     "data": {
      "text/plain": [
       "'/home/mgarcia/Desktop/images/img11.png'"
      ]
     },
     "execution_count": 20,
     "metadata": {},
     "output_type": "execute_result"
    }
   ],
   "source": [
    "img_num = obj.get_img_count(\"/home/mgarcia/Desktop/images\")\n",
    "\n",
    "img_name = \"img\" + str(img_num) + \".png\"\n",
    "\n",
    "obj.take_image(img_name=img_name,cam_idx=2)"
   ]
  },
  {
   "cell_type": "code",
   "execution_count": null,
   "metadata": {},
   "outputs": [],
   "source": []
  },
  {
   "cell_type": "code",
   "execution_count": null,
   "metadata": {},
   "outputs": [],
   "source": []
  },
  {
   "cell_type": "code",
   "execution_count": 19,
   "metadata": {},
   "outputs": [],
   "source": [
    "from PIL import Image\n",
    "from matplotlib import pyplot as plt\n",
    "import torch"
   ]
  },
  {
   "cell_type": "code",
   "execution_count": null,
   "metadata": {},
   "outputs": [],
   "source": [
    "def midpoint(x1,y1,x2,y2):\n",
    "\n",
    "    return ((x1+x2)/2),((y1+y2)/2)"
   ]
  },
  {
   "cell_type": "code",
   "execution_count": null,
   "metadata": {},
   "outputs": [
    {
     "data": {
      "text/plain": [
       "[<matplotlib.lines.Line2D at 0x7fb795dbd950>]"
      ]
     },
     "execution_count": 25,
     "metadata": {},
     "output_type": "execute_result"
    },
    {
     "data": {
      "image/png": "[encoded data removed]",
      "text/plain": [
       "<Figure size 640x480 with 1 Axes>"
      ]
     },
     "metadata": {},
     "output_type": "display_data"
    }
   ],
   "source": [
    "img1 = Image.open(\"/home/mgarcia/Desktop/images/img3.png\")\n",
    "\n",
    "plt.imshow(img1,cmap=\"gray\")\n",
    "\n",
    "\n",
    "x1 = 8.6232\n",
    "y1 = 32.8789\n",
    "\n",
    "x2 = 96.5123\n",
    "y2 = 131.7683\n",
    "\n",
    "\n",
    "\n",
    "m1 , m2 = midpoint(x1,y1,x2,y2)\n",
    "\n",
    "\n",
    "plt.plot(x1,y1,marker=\".\")\n",
    "plt.plot(x2,y2,marker=\".\")\n",
    "plt.plot(m1,m2,marker=\".\")"
   ]
  },
  {
   "cell_type": "code",
   "execution_count": null,
   "metadata": {},
   "outputs": [
    {
     "name": "stdout",
     "output_type": "stream",
     "text": [
      "Unexpected exception formatting exception. Falling back to standard exception\n"
     ]
    },
    {
     "name": "stderr",
     "output_type": "stream",
     "text": [
      "Traceback (most recent call last):\n",
      "  File \"/home/marco/github/numaware/.venv/lib64/python3.11/site-packages/IPython/core/interactiveshell.py\", line 3549, in run_code\n",
      "  File \"/tmp/ipykernel_17642/1075689881.py\", line 1, in <module>\n",
      "    from src.abb import abb\n",
      "ModuleNotFoundError: No module named 'src'\n",
      "\n",
      "During handling of the above exception, another exception occurred:\n",
      "\n",
      "Traceback (most recent call last):\n",
      "  File \"/home/marco/github/numaware/.venv/lib64/python3.11/site-packages/pygments/styles/__init__.py\", line 45, in get_style_by_name\n",
      "ModuleNotFoundError: No module named 'pygments.styles.default'\n",
      "\n",
      "During handling of the above exception, another exception occurred:\n",
      "\n",
      "Traceback (most recent call last):\n",
      "  File \"/home/marco/github/numaware/.venv/lib64/python3.11/site-packages/IPython/core/interactiveshell.py\", line 2173, in showtraceback\n",
      "  File \"/home/marco/github/numaware/.venv/lib64/python3.11/site-packages/IPython/core/ultratb.py\", line 1182, in structured_traceback\n",
      "  File \"/home/marco/github/numaware/.venv/lib64/python3.11/site-packages/IPython/core/ultratb.py\", line 1053, in structured_traceback\n",
      "  File \"/home/marco/github/numaware/.venv/lib64/python3.11/site-packages/IPython/core/ultratb.py\", line 861, in structured_traceback\n",
      "  File \"/home/marco/github/numaware/.venv/lib64/python3.11/site-packages/IPython/core/ultratb.py\", line 745, in format_exception_as_a_whole\n",
      "  File \"/home/marco/github/numaware/.venv/lib64/python3.11/site-packages/IPython/core/ultratb.py\", line 684, in prepare_header\n",
      "  File \"/home/marco/github/numaware/.venv/lib64/python3.11/site-packages/IPython/utils/PyColorize.py\", line 64, in format\n",
      "  File \"/home/marco/github/numaware/.venv/lib64/python3.11/site-packages/IPython/utils/PyColorize.py\", line 54, in as_pygments_style\n",
      "  File \"/home/marco/github/numaware/.venv/lib64/python3.11/site-packages/pygments/styles/__init__.py\", line 47, in get_style_by_name\n",
      "pygments.util.ClassNotFound: Could not find style module 'pygments.styles.default', though it should be builtin.\n"
     ]
    }
   ],
   "source": [
    "\n"
   ]
  },
  {
   "cell_type": "code",
   "execution_count": 5,
   "metadata": {},
   "outputs": [
    {
     "name": "stdout",
     "output_type": "stream",
     "text": [
      "Current Working Directory:   /home/marco/github/numaware/joint_model\n"
     ]
    }
   ],
   "source": [
    "\n",
    "import os\n",
    "\n",
    "\n",
    "while os.getcwd() != \"/\" and \".gitignore\" not in os.listdir(os.getcwd()):\n",
    "\tos.chdir(\"..\")\n",
    "\tif os.getcwd() == \"/\":\n",
    "\t\tprint(\"COULD NOT FIND pyproject.toml.  Invalid project base file.\")\n",
    "\n",
    "\n",
    "print(\"Current Working Directory:  \", os.getcwd())\n",
    "\n",
    "from src.abb import Robot"
   ]
  },
  {
   "cell_type": "code",
   "execution_count": 6,
   "metadata": {},
   "outputs": [
    {
     "name": "stdout",
     "output_type": "stream",
     "text": [
      "Unexpected exception formatting exception. Falling back to standard exception\n"
     ]
    },
    {
     "name": "stderr",
     "output_type": "stream",
     "text": [
      "Traceback (most recent call last):\n",
      "  File \"/home/marco/github/numaware/.venv/lib64/python3.11/site-packages/IPython/core/interactiveshell.py\", line 3549, in run_code\n",
      "  File \"/tmp/ipykernel_17642/813290670.py\", line 1, in <module>\n",
      "    R = Robot(ip = '192.168.125.1')\n",
      "        ^^^^^^^^^^^^^^^^^^^^^^^^^^^\n",
      "  File \"/home/marco/github/numaware/joint_model/src/abb.py\", line 31, in __init__\n",
      "    self.connect_motion((ip, port_motion))\n",
      "  File \"/home/marco/github/numaware/joint_model/src/abb.py\", line 46, in connect_motion\n",
      "    self.sock.connect(remote)\n",
      "TimeoutError: timed out\n",
      "\n",
      "During handling of the above exception, another exception occurred:\n",
      "\n",
      "Traceback (most recent call last):\n",
      "  File \"/home/marco/github/numaware/.venv/lib64/python3.11/site-packages/pygments/styles/__init__.py\", line 45, in get_style_by_name\n",
      "ModuleNotFoundError: No module named 'pygments.styles.default'\n",
      "\n",
      "During handling of the above exception, another exception occurred:\n",
      "\n",
      "Traceback (most recent call last):\n",
      "  File \"/home/marco/github/numaware/.venv/lib64/python3.11/site-packages/IPython/core/interactiveshell.py\", line 2173, in showtraceback\n",
      "  File \"/home/marco/github/numaware/.venv/lib64/python3.11/site-packages/IPython/core/ultratb.py\", line 1182, in structured_traceback\n",
      "  File \"/home/marco/github/numaware/.venv/lib64/python3.11/site-packages/IPython/core/ultratb.py\", line 1053, in structured_traceback\n",
      "  File \"/home/marco/github/numaware/.venv/lib64/python3.11/site-packages/IPython/core/ultratb.py\", line 861, in structured_traceback\n",
      "  File \"/home/marco/github/numaware/.venv/lib64/python3.11/site-packages/IPython/core/ultratb.py\", line 745, in format_exception_as_a_whole\n",
      "  File \"/home/marco/github/numaware/.venv/lib64/python3.11/site-packages/IPython/core/ultratb.py\", line 684, in prepare_header\n",
      "  File \"/home/marco/github/numaware/.venv/lib64/python3.11/site-packages/IPython/utils/PyColorize.py\", line 64, in format\n",
      "  File \"/home/marco/github/numaware/.venv/lib64/python3.11/site-packages/IPython/utils/PyColorize.py\", line 54, in as_pygments_style\n",
      "  File \"/home/marco/github/numaware/.venv/lib64/python3.11/site-packages/pygments/styles/__init__.py\", line 47, in get_style_by_name\n",
      "pygments.util.ClassNotFound: Could not find style module 'pygments.styles.default', though it should be builtin.\n"
     ]
    }
   ],
   "source": [
    "R = Robot(ip = '192.168.125.1')"
   ]
  },
  {
   "cell_type": "code",
   "execution_count": 22,
   "metadata": {},
   "outputs": [],
   "source": [
    "j = [12.3,4.2,32.2]"
   ]
  },
  {
   "cell_type": "code",
   "execution_count": null,
   "metadata": {},
   "outputs": [],
   "source": []
  },
  {
   "cell_type": "code",
   "execution_count": 28,
   "metadata": {},
   "outputs": [
    {
     "data": {
      "text/plain": [
       "'12.3-4.2-32.2'"
      ]
     },
     "execution_count": 28,
     "metadata": {},
     "output_type": "execute_result"
    }
   ],
   "source": [
    "parse_joints(j)"
   ]
  },
  {
   "cell_type": "code",
   "execution_count": null,
   "metadata": {},
   "outputs": [],
   "source": []
  },
  {
   "cell_type": "code",
   "execution_count": null,
   "metadata": {},
   "outputs": [],
   "source": [
    "\n",
    "import cv2\n",
    "import numpy as np\n",
    "import glob\n",
    "from PIL import Image\n",
    "\n",
    "\n",
    "\n",
    "def calibrate(folder, rows=6, cols=9, save_file='calibrationdata.npz'):\n",
    "    \"\"\"\n",
    "    Calibrates the camera to get the undistortion parameters. Capture a few images of the chessboard pattern\n",
    "    with your camera and store them in `folder`. This function obtains the undistortion parameters and saves\n",
    "    them in `save_file`.\n",
    "    \n",
    "    Argugments:\n",
    "    ----------\n",
    "    `folder`: String, required\n",
    "        The folder where the images of the chessboard pattern are stored.\n",
    "    `rows`, `cols`: Integers, optional\n",
    "        The number of horizontal and vertical lines on your chessboard.\n",
    "    `save_file`: String, optional\n",
    "        Path to save the undistortion parameters.\n",
    "    \"\"\"\n",
    "\n",
    "    # Stop / decision criteria for the algorithm\n",
    "    criteria = (cv2.TERM_CRITERIA_MAX_ITER + cv2.TERM_CRITERIA_EPS, 30, 0.001)\n",
    "\n",
    "    # Required Variables\n",
    "    objectPoints = np.zeros((rows * cols, 3), np.float32)\n",
    "    objectPoints[:, :2] = np.mgrid[0:rows, 0:cols].T.reshape(-1, 2)\n",
    "    objectPointsArray = []\n",
    "    imgPointsArray = []\n",
    "    img_paths = glob.glob(f'{folder.rstrip(\"/\")}/*.jpg') + glob.glob(f'{folder.rstrip(\"/\")}/*.png')\n",
    "\n",
    "    print(img_paths)\n",
    "    \n",
    "    found = 0 \n",
    "    # Repeat n times until successful calibration is done.\n",
    "    for img_path in img_paths:\n",
    "        # Read the next image and convert to grayscale\n",
    "        img = cv2.imread(img_path)\n",
    "        gray = cv2.cvtColor(img, cv2.COLOR_BGR2GRAY)\n",
    "        # gray = np.array(255 - gray)\n",
    "\n",
    "        # Find the corners of the chessboard within the frame\n",
    "        \n",
    "        isSucces, corners = cv2.findChessboardCorners(gray, (rows, cols), flags=cv2.CALIB_CB_ADAPTIVE_THRESH + cv2.CALIB_CB_FILTER_QUADS)\n",
    "\n",
    "        print(img_path, isSucces, corners)\n",
    "\n",
    "        # If the corners were found succesfully\n",
    "        if isSucces:\n",
    "            '''\n",
    "            If the number of rows and columns we specified is correctly determined\n",
    "            With the cornerSubPix () method, the sub-pixel of the corners or radial spine points,\n",
    "            it repeats itself to find the correct position.\n",
    "            '''\n",
    "            corners = cv2.cornerSubPix(gray, corners, (11, 11), (-1, -1), criteria)\n",
    "\n",
    "            # Save the points we just achieved\n",
    "            objectPointsArray.append(objectPoints)\n",
    "            imgPointsArray.append(corners)\n",
    "            \n",
    "            found += 1\n",
    "            \n",
    "    print(f'{found} usable images found in {folder}.')\n",
    "\n",
    "    # Save the K and D values obtained as an npz archive\n",
    "    print(objectPointsArray, imgPointsArray, gray)\n",
    "    ret, mtx, dist, rvecs, tvecs = cv2.calibrateCamera(objectPointsArray, imgPointsArray, gray.shape[::-1], None, None)\n",
    "    np.savez(save_file, mtx=mtx, dist=dist, rvecs=rvecs, tvecs=tvecs)\n",
    "    \n",
    "    return mtx, dist"
   ]
  },
  {
   "cell_type": "code",
   "execution_count": null,
   "metadata": {},
   "outputs": [],
   "source": []
  },
  {
   "cell_type": "code",
   "execution_count": null,
   "metadata": {},
   "outputs": [],
   "source": [
    "import numpy as np\n",
    "import matplotlib.pyplot as plt\n",
    "from mpl_point_clicker import clicker\n",
    "\n",
    "fig, ax = plt.subplots(constrained_layout=True)\n",
    "ax.plot(np.sin(np.arange(200)/(5*np.pi)))\n",
    "klicker = clicker(ax, [\"event\"], markers=[\"x\"])\n",
    "\n",
    "plt.show()\n",
    "\n",
    "print(klicker.get_positions())"
   ]
  },
  {
   "cell_type": "code",
   "execution_count": null,
   "metadata": {},
   "outputs": [],
   "source": []
  },
  {
   "cell_type": "code",
   "execution_count": null,
   "metadata": {},
   "outputs": [],
   "source": []
  }
 ],
 "metadata": {
  "kernelspec": {
   "display_name": "Python 3",
   "language": "python",
   "name": "python3"
  },
  "language_info": {
   "codemirror_mode": {
    "name": "ipython",
    "version": 3
   },
   "file_extension": ".py",
   "mimetype": "text/x-python",
   "name": "python",
   "nbconvert_exporter": "python",
   "pygments_lexer": "ipython3",
   "version": "2.7.18"
  }
 },
 "nbformat": 4,
 "nbformat_minor": 2
}

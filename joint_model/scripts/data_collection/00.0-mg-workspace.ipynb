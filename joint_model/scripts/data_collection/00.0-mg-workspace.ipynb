{
 "cells": [
  {
   "cell_type": "code",
   "execution_count": 3,
   "metadata": {},
   "outputs": [],
   "source": [
    "\n",
    "import os\n",
    "import cv2     as cv\n",
    "import numpy   as np\n",
    "from PIL import Image\n",
    "from ultralytics import YOLO\n",
    "import calibri as cal\n",
    "\n",
    "\n",
    "\n",
    "\n",
    "class Data_Collector:\n",
    "\n",
    "    def __init__(self,imgs_dir_path, cam_calibration_path):\n",
    "        self.imgs_dir_path = imgs_dir_path\n",
    "        data               = np.load(cam_calibration_path,allow_pickle=True)\n",
    "        self.mtx           = data['mtx']\n",
    "        self.dist          = data['dist']\n",
    "    \n",
    "    def take_image(self, img_name , cam_idx):\n",
    "\n",
    "        abs_path = os.path.join(self.imgs_dir_path,img_name)\n",
    "\n",
    "        cap = cv.VideoCapture(cam_idx)\n",
    "        \n",
    "        if not cap.isOpened():\n",
    "            print(\"Cannot open camera\")\n",
    "            exit()\n",
    "\n",
    "        ret, frame = cap.read()\n",
    "\n",
    "        if not ret:\n",
    "            print(\"Can't take an image. Exiting ....\")\n",
    "            cap.release()\n",
    "            cv.destroyAllWindows()\n",
    "            return None\n",
    "        else:       \n",
    "            img = np.asarray(frame)\n",
    "            undistored_img = cal.undistort(img,self.mtx,self.dist)\n",
    "            success = cv.imwrite(abs_path,undistored_img)\n",
    "            \n",
    "            if success:\n",
    "                print(f\"Image successfully saved to {abs_path}\")\n",
    "               \n",
    "            else:\n",
    "                print(f\"An error occured. The image was not able to be captured.\")\n",
    "                             \n",
    "        cap.release()\n",
    "        cv.destroyAllWindows()\n",
    "        return abs_path\n",
    "\n",
    "    \n",
    "    def get_img_count(self, filepath):\n",
    "        \n",
    "        img_dir = os.listdir(filepath)\n",
    "        \n",
    "        count = 0\n",
    "\n",
    "        for file in img_dir:\n",
    "            if file.endswith(\".jpg\") or file.endswith(\".png\") or file.endswith(\".jpeg\"):\n",
    "                count+=1\n",
    "        print(f\"There is currently {count} images in your image directory.\")\n",
    "        return count + 1\n",
    "\n",
    "    def find_camera_idx(self):\n",
    "        \n",
    "        for cam_idx in range(-1,10):\n",
    "\n",
    "            cap = cv.VideoCapture(cam_idx)\n",
    "            \n",
    "            if cap.isOpened():\n",
    "                print(f\"Camera is open on idx {cam_idx}\")\n",
    "\n",
    "\n",
    "        \n",
    "\n",
    "\n"
   ]
  },
  {
   "cell_type": "code",
   "execution_count": 6,
   "metadata": {},
   "outputs": [],
   "source": [
    "obj = Data_Collector(\"/home/mgarcia/Desktop/images/\",\"./calibrationdata.npz\")"
   ]
  },
  {
   "cell_type": "code",
   "execution_count": 4,
   "metadata": {},
   "outputs": [
    {
     "name": "stdout",
     "output_type": "stream",
     "text": [
      "Camera is open on idx -1\n",
      "Camera is open on idx 2\n"
     ]
    },
    {
     "name": "stderr",
     "output_type": "stream",
     "text": [
      "[ WARN:0@31.519] global cap_v4l.cpp:913 open VIDEOIO(V4L2:/dev/video0): can't open camera by index\n",
      "[ERROR:0@31.523] global obsensor_uvc_stream_channel.cpp:158 getStreamChannelGroup Camera index out of range\n",
      "[ WARN:0@31.525] global cap_v4l.cpp:913 open VIDEOIO(V4L2:/dev/video1): can't open camera by index\n",
      "[ERROR:0@31.526] global obsensor_uvc_stream_channel.cpp:158 getStreamChannelGroup Camera index out of range\n",
      "[ WARN:0@31.531] global cap_v4l.cpp:913 open VIDEOIO(V4L2:/dev/video3): can't open camera by index\n",
      "[ERROR:0@31.534] global obsensor_uvc_stream_channel.cpp:158 getStreamChannelGroup Camera index out of range\n",
      "[ WARN:0@31.535] global cap_v4l.cpp:913 open VIDEOIO(V4L2:/dev/video4): can't open camera by index\n",
      "[ERROR:0@31.538] global obsensor_uvc_stream_channel.cpp:158 getStreamChannelGroup Camera index out of range\n",
      "[ WARN:0@31.538] global cap_v4l.cpp:913 open VIDEOIO(V4L2:/dev/video5): can't open camera by index\n",
      "[ERROR:0@31.543] global obsensor_uvc_stream_channel.cpp:158 getStreamChannelGroup Camera index out of range\n",
      "[ WARN:0@31.543] global cap_v4l.cpp:913 open VIDEOIO(V4L2:/dev/video6): can't open camera by index\n",
      "[ERROR:0@31.546] global obsensor_uvc_stream_channel.cpp:158 getStreamChannelGroup Camera index out of range\n",
      "[ WARN:0@31.546] global cap_v4l.cpp:913 open VIDEOIO(V4L2:/dev/video7): can't open camera by index\n",
      "[ERROR:0@31.547] global obsensor_uvc_stream_channel.cpp:158 getStreamChannelGroup Camera index out of range\n",
      "[ WARN:0@31.548] global cap_v4l.cpp:913 open VIDEOIO(V4L2:/dev/video8): can't open camera by index\n",
      "[ERROR:0@31.551] global obsensor_uvc_stream_channel.cpp:158 getStreamChannelGroup Camera index out of range\n",
      "[ WARN:0@31.552] global cap_v4l.cpp:913 open VIDEOIO(V4L2:/dev/video9): can't open camera by index\n",
      "[ERROR:0@31.554] global obsensor_uvc_stream_channel.cpp:158 getStreamChannelGroup Camera index out of range\n"
     ]
    }
   ],
   "source": [
    "obj.find_camera_idx()"
   ]
  },
  {
   "cell_type": "code",
   "execution_count": 5,
   "metadata": {},
   "outputs": [
    {
     "name": "stdout",
     "output_type": "stream",
     "text": [
      "Image successfully saved to /home/mgarcia/Pictures/img4.png\n"
     ]
    }
   ],
   "source": [
    "img_path = obj.take_image(\"img4.png\",2)"
   ]
  },
  {
   "cell_type": "code",
   "execution_count": 6,
   "metadata": {},
   "outputs": [],
   "source": [
    "model = YOLO(\"../../object_detection_model/model/mg_model_6/best.pt\")"
   ]
  },
  {
   "cell_type": "code",
   "execution_count": 7,
   "metadata": {},
   "outputs": [
    {
     "name": "stdout",
     "output_type": "stream",
     "text": [
      "\n",
      "image 1/1 /home/mgarcia/Pictures/img4.png: 480x640 1 grey pallet, 1 white pallet, 500.8ms\n",
      "Speed: 19.6ms preprocess, 500.8ms inference, 23.4ms postprocess per image at shape (1, 3, 480, 640)\n"
     ]
    }
   ],
   "source": [
    "results = model(source = img_path,conf = .6)\n"
   ]
  },
  {
   "cell_type": "code",
   "execution_count": 20,
   "metadata": {},
   "outputs": [
    {
     "name": "stdout",
     "output_type": "stream",
     "text": [
      "There is currently 10 images in your image directory.\n",
      "Image successfully saved to /home/mgarcia/Desktop/images/img11.png\n"
     ]
    },
    {
     "data": {
      "text/plain": [
       "'/home/mgarcia/Desktop/images/img11.png'"
      ]
     },
     "execution_count": 20,
     "metadata": {},
     "output_type": "execute_result"
    }
   ],
   "source": [
    "img_num = obj.get_img_count(\"/home/mgarcia/Desktop/images\")\n",
    "\n",
    "img_name = \"img\" + str(img_num) + \".png\"\n",
    "\n",
    "obj.take_image(img_name=img_name,cam_idx=2)"
   ]
  },
  {
   "cell_type": "code",
   "execution_count": null,
   "metadata": {},
   "outputs": [],
   "source": []
  }
 ],
 "metadata": {
  "kernelspec": {
   "display_name": ".venv",
   "language": "python",
   "name": "python3"
  },
  "language_info": {
   "codemirror_mode": {
    "name": "ipython",
    "version": 3
   },
   "file_extension": ".py",
   "mimetype": "text/x-python",
   "name": "python",
   "nbconvert_exporter": "python",
   "pygments_lexer": "ipython3",
   "version": "3.11.11"
  }
 },
 "nbformat": 4,
 "nbformat_minor": 2
}
